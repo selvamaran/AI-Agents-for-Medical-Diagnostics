{
  "nbformat": 4,
  "nbformat_minor": 0,
  "metadata": {
    "colab": {
      "provenance": [],
      "authorship_tag": "ABX9TyPwmgRSNp1w90qNZwFQ4xzX",
      "include_colab_link": true
    },
    "kernelspec": {
      "name": "python3",
      "display_name": "Python 3"
    },
    "language_info": {
      "name": "python"
    }
  },
  "cells": [
    {
      "cell_type": "markdown",
      "metadata": {
        "id": "view-in-github",
        "colab_type": "text"
      },
      "source": [
        "<a href=\"https://colab.research.google.com/github/selvamaran/AI-Agents-for-Medical-Diagnostics/blob/main/AI_Agents_for_Medical_Diagnostics_.ipynb\" target=\"_parent\"><img src=\"https://colab.research.google.com/assets/colab-badge.svg\" alt=\"Open In Colab\"/></a>"
      ]
    },
    {
      "cell_type": "code",
      "execution_count": 1,
      "metadata": {
        "colab": {
          "base_uri": "https://localhost:8080/"
        },
        "id": "BUhgdh2y89eK",
        "outputId": "2424fb75-dfc3-4435-aaf1-849553279f47"
      },
      "outputs": [
        {
          "output_type": "stream",
          "name": "stdout",
          "text": [
            "Cloning into 'AI-Agents-for-Medical-Diagnostics'...\n",
            "remote: Enumerating objects: 54, done.\u001b[K\n",
            "remote: Counting objects: 100% (54/54), done.\u001b[K\n",
            "remote: Compressing objects: 100% (49/49), done.\u001b[K\n",
            "remote: Total 54 (delta 17), reused 11 (delta 0), pack-reused 0 (from 0)\u001b[K\n",
            "Receiving objects: 100% (54/54), 24.93 KiB | 2.08 MiB/s, done.\n",
            "Resolving deltas: 100% (17/17), done.\n"
          ]
        }
      ],
      "source": [
        "!git clone https://github.com/selvamaran/AI-Agents-for-Medical-Diagnostics"
      ]
    },
    {
      "cell_type": "code",
      "source": [
        "!pip install -r requirements.txt"
      ],
      "metadata": {
        "colab": {
          "base_uri": "https://localhost:8080/"
        },
        "id": "vmZvL1Zr9K6T",
        "outputId": "709b0c5b-a032-45a2-f7af-d884facd4dc3"
      },
      "execution_count": 2,
      "outputs": [
        {
          "output_type": "stream",
          "name": "stdout",
          "text": [
            "Requirement already satisfied: langchain in /usr/local/lib/python3.11/dist-packages (from -r requirements.txt (line 1)) (0.3.23)\n",
            "Requirement already satisfied: langchain-community in /usr/local/lib/python3.11/dist-packages (from -r requirements.txt (line 2)) (0.3.21)\n",
            "Requirement already satisfied: langchain-openai in /usr/local/lib/python3.11/dist-packages (from -r requirements.txt (line 3)) (0.3.14)\n",
            "Requirement already satisfied: langchain-experimental in /usr/local/lib/python3.11/dist-packages (from -r requirements.txt (line 4)) (0.3.4)\n",
            "Requirement already satisfied: python-dotenv in /usr/local/lib/python3.11/dist-packages (from -r requirements.txt (line 5)) (1.1.0)\n",
            "Requirement already satisfied: langchain_ollama in /usr/local/lib/python3.11/dist-packages (from -r requirements.txt (line 6)) (0.3.2)\n",
            "Requirement already satisfied: reportlab in /usr/local/lib/python3.11/dist-packages (from -r requirements.txt (line 7)) (4.4.0)\n",
            "Requirement already satisfied: langchain-core<1.0.0,>=0.3.51 in /usr/local/lib/python3.11/dist-packages (from langchain->-r requirements.txt (line 1)) (0.3.54)\n",
            "Requirement already satisfied: langchain-text-splitters<1.0.0,>=0.3.8 in /usr/local/lib/python3.11/dist-packages (from langchain->-r requirements.txt (line 1)) (0.3.8)\n",
            "Requirement already satisfied: langsmith<0.4,>=0.1.17 in /usr/local/lib/python3.11/dist-packages (from langchain->-r requirements.txt (line 1)) (0.3.31)\n",
            "Requirement already satisfied: pydantic<3.0.0,>=2.7.4 in /usr/local/lib/python3.11/dist-packages (from langchain->-r requirements.txt (line 1)) (2.11.3)\n",
            "Requirement already satisfied: SQLAlchemy<3,>=1.4 in /usr/local/lib/python3.11/dist-packages (from langchain->-r requirements.txt (line 1)) (2.0.40)\n",
            "Requirement already satisfied: requests<3,>=2 in /usr/local/lib/python3.11/dist-packages (from langchain->-r requirements.txt (line 1)) (2.32.3)\n",
            "Requirement already satisfied: PyYAML>=5.3 in /usr/local/lib/python3.11/dist-packages (from langchain->-r requirements.txt (line 1)) (6.0.2)\n",
            "Requirement already satisfied: aiohttp<4.0.0,>=3.8.3 in /usr/local/lib/python3.11/dist-packages (from langchain-community->-r requirements.txt (line 2)) (3.11.15)\n",
            "Requirement already satisfied: tenacity!=8.4.0,<10,>=8.1.0 in /usr/local/lib/python3.11/dist-packages (from langchain-community->-r requirements.txt (line 2)) (9.1.2)\n",
            "Requirement already satisfied: dataclasses-json<0.7,>=0.5.7 in /usr/local/lib/python3.11/dist-packages (from langchain-community->-r requirements.txt (line 2)) (0.6.7)\n",
            "Requirement already satisfied: pydantic-settings<3.0.0,>=2.4.0 in /usr/local/lib/python3.11/dist-packages (from langchain-community->-r requirements.txt (line 2)) (2.9.1)\n",
            "Requirement already satisfied: httpx-sse<1.0.0,>=0.4.0 in /usr/local/lib/python3.11/dist-packages (from langchain-community->-r requirements.txt (line 2)) (0.4.0)\n",
            "Requirement already satisfied: numpy<3,>=1.26.2 in /usr/local/lib/python3.11/dist-packages (from langchain-community->-r requirements.txt (line 2)) (2.0.2)\n",
            "Requirement already satisfied: openai<2.0.0,>=1.68.2 in /usr/local/lib/python3.11/dist-packages (from langchain-openai->-r requirements.txt (line 3)) (1.75.0)\n",
            "Requirement already satisfied: tiktoken<1,>=0.7 in /usr/local/lib/python3.11/dist-packages (from langchain-openai->-r requirements.txt (line 3)) (0.9.0)\n",
            "Requirement already satisfied: ollama<1,>=0.4.4 in /usr/local/lib/python3.11/dist-packages (from langchain_ollama->-r requirements.txt (line 6)) (0.4.8)\n",
            "Requirement already satisfied: pillow>=9.0.0 in /usr/local/lib/python3.11/dist-packages (from reportlab->-r requirements.txt (line 7)) (11.1.0)\n",
            "Requirement already satisfied: chardet in /usr/local/lib/python3.11/dist-packages (from reportlab->-r requirements.txt (line 7)) (5.2.0)\n",
            "Requirement already satisfied: aiohappyeyeballs>=2.3.0 in /usr/local/lib/python3.11/dist-packages (from aiohttp<4.0.0,>=3.8.3->langchain-community->-r requirements.txt (line 2)) (2.6.1)\n",
            "Requirement already satisfied: aiosignal>=1.1.2 in /usr/local/lib/python3.11/dist-packages (from aiohttp<4.0.0,>=3.8.3->langchain-community->-r requirements.txt (line 2)) (1.3.2)\n",
            "Requirement already satisfied: attrs>=17.3.0 in /usr/local/lib/python3.11/dist-packages (from aiohttp<4.0.0,>=3.8.3->langchain-community->-r requirements.txt (line 2)) (25.3.0)\n",
            "Requirement already satisfied: frozenlist>=1.1.1 in /usr/local/lib/python3.11/dist-packages (from aiohttp<4.0.0,>=3.8.3->langchain-community->-r requirements.txt (line 2)) (1.5.0)\n",
            "Requirement already satisfied: multidict<7.0,>=4.5 in /usr/local/lib/python3.11/dist-packages (from aiohttp<4.0.0,>=3.8.3->langchain-community->-r requirements.txt (line 2)) (6.4.3)\n",
            "Requirement already satisfied: propcache>=0.2.0 in /usr/local/lib/python3.11/dist-packages (from aiohttp<4.0.0,>=3.8.3->langchain-community->-r requirements.txt (line 2)) (0.3.1)\n",
            "Requirement already satisfied: yarl<2.0,>=1.17.0 in /usr/local/lib/python3.11/dist-packages (from aiohttp<4.0.0,>=3.8.3->langchain-community->-r requirements.txt (line 2)) (1.19.0)\n",
            "Requirement already satisfied: marshmallow<4.0.0,>=3.18.0 in /usr/local/lib/python3.11/dist-packages (from dataclasses-json<0.7,>=0.5.7->langchain-community->-r requirements.txt (line 2)) (3.26.1)\n",
            "Requirement already satisfied: typing-inspect<1,>=0.4.0 in /usr/local/lib/python3.11/dist-packages (from dataclasses-json<0.7,>=0.5.7->langchain-community->-r requirements.txt (line 2)) (0.9.0)\n",
            "Requirement already satisfied: jsonpatch<2.0,>=1.33 in /usr/local/lib/python3.11/dist-packages (from langchain-core<1.0.0,>=0.3.51->langchain->-r requirements.txt (line 1)) (1.33)\n",
            "Requirement already satisfied: packaging<25,>=23.2 in /usr/local/lib/python3.11/dist-packages (from langchain-core<1.0.0,>=0.3.51->langchain->-r requirements.txt (line 1)) (24.2)\n",
            "Requirement already satisfied: typing-extensions>=4.7 in /usr/local/lib/python3.11/dist-packages (from langchain-core<1.0.0,>=0.3.51->langchain->-r requirements.txt (line 1)) (4.13.2)\n",
            "Requirement already satisfied: httpx<1,>=0.23.0 in /usr/local/lib/python3.11/dist-packages (from langsmith<0.4,>=0.1.17->langchain->-r requirements.txt (line 1)) (0.28.1)\n",
            "Requirement already satisfied: orjson<4.0.0,>=3.9.14 in /usr/local/lib/python3.11/dist-packages (from langsmith<0.4,>=0.1.17->langchain->-r requirements.txt (line 1)) (3.10.16)\n",
            "Requirement already satisfied: requests-toolbelt<2.0.0,>=1.0.0 in /usr/local/lib/python3.11/dist-packages (from langsmith<0.4,>=0.1.17->langchain->-r requirements.txt (line 1)) (1.0.0)\n",
            "Requirement already satisfied: zstandard<0.24.0,>=0.23.0 in /usr/local/lib/python3.11/dist-packages (from langsmith<0.4,>=0.1.17->langchain->-r requirements.txt (line 1)) (0.23.0)\n",
            "Requirement already satisfied: anyio<5,>=3.5.0 in /usr/local/lib/python3.11/dist-packages (from openai<2.0.0,>=1.68.2->langchain-openai->-r requirements.txt (line 3)) (4.9.0)\n",
            "Requirement already satisfied: distro<2,>=1.7.0 in /usr/local/lib/python3.11/dist-packages (from openai<2.0.0,>=1.68.2->langchain-openai->-r requirements.txt (line 3)) (1.9.0)\n",
            "Requirement already satisfied: jiter<1,>=0.4.0 in /usr/local/lib/python3.11/dist-packages (from openai<2.0.0,>=1.68.2->langchain-openai->-r requirements.txt (line 3)) (0.9.0)\n",
            "Requirement already satisfied: sniffio in /usr/local/lib/python3.11/dist-packages (from openai<2.0.0,>=1.68.2->langchain-openai->-r requirements.txt (line 3)) (1.3.1)\n",
            "Requirement already satisfied: tqdm>4 in /usr/local/lib/python3.11/dist-packages (from openai<2.0.0,>=1.68.2->langchain-openai->-r requirements.txt (line 3)) (4.67.1)\n",
            "Requirement already satisfied: annotated-types>=0.6.0 in /usr/local/lib/python3.11/dist-packages (from pydantic<3.0.0,>=2.7.4->langchain->-r requirements.txt (line 1)) (0.7.0)\n",
            "Requirement already satisfied: pydantic-core==2.33.1 in /usr/local/lib/python3.11/dist-packages (from pydantic<3.0.0,>=2.7.4->langchain->-r requirements.txt (line 1)) (2.33.1)\n",
            "Requirement already satisfied: typing-inspection>=0.4.0 in /usr/local/lib/python3.11/dist-packages (from pydantic<3.0.0,>=2.7.4->langchain->-r requirements.txt (line 1)) (0.4.0)\n",
            "Requirement already satisfied: charset-normalizer<4,>=2 in /usr/local/lib/python3.11/dist-packages (from requests<3,>=2->langchain->-r requirements.txt (line 1)) (3.4.1)\n",
            "Requirement already satisfied: idna<4,>=2.5 in /usr/local/lib/python3.11/dist-packages (from requests<3,>=2->langchain->-r requirements.txt (line 1)) (3.10)\n",
            "Requirement already satisfied: urllib3<3,>=1.21.1 in /usr/local/lib/python3.11/dist-packages (from requests<3,>=2->langchain->-r requirements.txt (line 1)) (2.3.0)\n",
            "Requirement already satisfied: certifi>=2017.4.17 in /usr/local/lib/python3.11/dist-packages (from requests<3,>=2->langchain->-r requirements.txt (line 1)) (2025.1.31)\n",
            "Requirement already satisfied: greenlet>=1 in /usr/local/lib/python3.11/dist-packages (from SQLAlchemy<3,>=1.4->langchain->-r requirements.txt (line 1)) (3.2.0)\n",
            "Requirement already satisfied: regex>=2022.1.18 in /usr/local/lib/python3.11/dist-packages (from tiktoken<1,>=0.7->langchain-openai->-r requirements.txt (line 3)) (2024.11.6)\n",
            "Requirement already satisfied: httpcore==1.* in /usr/local/lib/python3.11/dist-packages (from httpx<1,>=0.23.0->langsmith<0.4,>=0.1.17->langchain->-r requirements.txt (line 1)) (1.0.8)\n",
            "Requirement already satisfied: h11<0.15,>=0.13 in /usr/local/lib/python3.11/dist-packages (from httpcore==1.*->httpx<1,>=0.23.0->langsmith<0.4,>=0.1.17->langchain->-r requirements.txt (line 1)) (0.14.0)\n",
            "Requirement already satisfied: jsonpointer>=1.9 in /usr/local/lib/python3.11/dist-packages (from jsonpatch<2.0,>=1.33->langchain-core<1.0.0,>=0.3.51->langchain->-r requirements.txt (line 1)) (3.0.0)\n",
            "Requirement already satisfied: mypy-extensions>=0.3.0 in /usr/local/lib/python3.11/dist-packages (from typing-inspect<1,>=0.4.0->dataclasses-json<0.7,>=0.5.7->langchain-community->-r requirements.txt (line 2)) (1.0.0)\n"
          ]
        }
      ]
    },
    {
      "cell_type": "code",
      "source": [],
      "metadata": {
        "id": "fuDCZlcmQSLz"
      },
      "execution_count": null,
      "outputs": []
    },
    {
      "cell_type": "code",
      "source": [],
      "metadata": {
        "id": "H0AERingNa7j"
      },
      "execution_count": null,
      "outputs": []
    },
    {
      "cell_type": "code",
      "source": [
        "%cd AI-Agents-for-Medical-Diagnostics"
      ],
      "metadata": {
        "colab": {
          "base_uri": "https://localhost:8080/"
        },
        "id": "bqUANBpK9B3x",
        "outputId": "525e7f18-eda9-49bf-8e47-376615ee9590"
      },
      "execution_count": 1,
      "outputs": [
        {
          "output_type": "stream",
          "name": "stdout",
          "text": [
            "/content/AI-Agents-for-Medical-Diagnostics\n"
          ]
        }
      ]
    },
    {
      "cell_type": "code",
      "source": [
        "from dotenv import load_dotenv\n",
        "from concurrent.futures import ThreadPoolExecutor, as_completed\n",
        "from Utils.Agents import Cardiologist, Psychologist, Pulmonologist, MultidisciplinaryTeam\n",
        "from dotenv import load_dotenv\n",
        "import json, os"
      ],
      "metadata": {
        "id": "7cz--Cs59rYr"
      },
      "execution_count": 2,
      "outputs": []
    },
    {
      "cell_type": "code",
      "source": [
        "# Loading API key from a dotenv file.\n",
        "load_dotenv(dotenv_path='apikey.env')"
      ],
      "metadata": {
        "colab": {
          "base_uri": "https://localhost:8080/"
        },
        "id": "hFghzR4n92pT",
        "outputId": "a0285904-7ccd-4a02-c4e1-2a246d4a7413"
      },
      "execution_count": 3,
      "outputs": [
        {
          "output_type": "execute_result",
          "data": {
            "text/plain": [
              "True"
            ]
          },
          "metadata": {},
          "execution_count": 3
        }
      ]
    },
    {
      "cell_type": "code",
      "source": [
        "# APIKEY\n",
        "# /content/AI-Agents-for-Medical-Diagnostics/Medical Reports"
      ],
      "metadata": {
        "id": "7Xf3vl79-HOs"
      },
      "execution_count": 4,
      "outputs": []
    },
    {
      "cell_type": "code",
      "source": [
        "# read the medical report\n",
        "with open(\"/content/AI-Agents-for-Medical-Diagnostics/Medical Reports/Medical Rerort - Michael Johnson - Panic Attack Disorder.txt\", \"r\") as file:\n",
        "    medical_report = file.read()"
      ],
      "metadata": {
        "id": "cV3RUiAc-MSu"
      },
      "execution_count": 5,
      "outputs": []
    },
    {
      "cell_type": "code",
      "source": [
        "print(medical_report)"
      ],
      "metadata": {
        "colab": {
          "base_uri": "https://localhost:8080/"
        },
        "id": "k3kx_jtr-gcZ",
        "outputId": "ac654d8c-5c30-4a25-fcce-b02236b19f4f"
      },
      "execution_count": 6,
      "outputs": [
        {
          "output_type": "stream",
          "name": "stdout",
          "text": [
            "Medical Case Report\n",
            "Patient ID: 345678\n",
            "Name: Michael Johnson\n",
            "Age: 29\n",
            "Gender: Male\n",
            "Date of Report: 2024-09-04\n",
            "\n",
            "Chief Complaint:\n",
            "The patient reports experiencing sudden episodes of intense chest pain, heart palpitations, shortness of breath, dizziness, and sweating over the past three months. These episodes typically last for about 10-20 minutes and occur without warning, usually once or twice a week. The patient describes a feeling of impending doom during these episodes and fears having a heart attack.\n",
            "\n",
            "Medical History:\n",
            "Family History: No known history of heart disease. Mother has generalized anxiety disorder; father has no significant medical history.\n",
            "Personal Medical History:\n",
            "Anxiety: Diagnosed at age 25; managed with cognitive behavioral therapy (CBT) and occasional use of benzodiazepines.\n",
            "Gastroesophageal Reflux Disease (GERD): Diagnosed at age 27; managed with proton pump inhibitors (PPIs) and dietary changes.\n",
            "Lifestyle Factors: The patient works in a high-stress job as an investment banker, reports occasional use of caffeine and alcohol, and exercises irregularly.\n",
            "Medications: Lorazepam (0.5 mg as needed for anxiety), Omeprazole (20 mg daily).\n",
            "Recent Lab and Diagnostic Results:\n",
            "Electrocardiogram (ECG): Normal sinus rhythm; no signs of ischemia or arrhythmia detected.\n",
            "Blood Tests: Cardiac enzymes (troponin, CK-MB) within normal limits; thyroid function tests normal.\n",
            "Holter Monitor (24-hour monitoring): No significant arrhythmias; occasional premature ventricular contractions (PVCs) noted.\n",
            "Echocardiogram: Normal cardiac structure and function; ejection fraction 60%.\n",
            "Physical Examination Findings:\n",
            "Vital Signs: Blood pressure 122/78 mmHg, heart rate 82 bpm, BMI 23.4.\n",
            "Cardiovascular Exam: Normal heart sounds; no murmurs, gallops, or rubs.\n",
            "Respiratory Exam: Clear breath sounds; no wheezing or crackles.\n",
            "\n"
          ]
        }
      ]
    },
    {
      "cell_type": "code",
      "source": [
        "# os.environ.get(\"OPENAI_API_KEY\")"
      ],
      "metadata": {
        "id": "NHMejJG3_VLl"
      },
      "execution_count": 7,
      "outputs": []
    },
    {
      "cell_type": "code",
      "source": [],
      "metadata": {
        "id": "GwgNcbqz_qyo"
      },
      "execution_count": 7,
      "outputs": []
    },
    {
      "cell_type": "code",
      "source": [
        "agents = {\n",
        "    \"Cardiologist\": Cardiologist(medical_report),\n",
        "    \"Psychologist\": Psychologist(medical_report),\n",
        "    \"Pulmonologist\": Pulmonologist(medical_report)\n",
        "}"
      ],
      "metadata": {
        "id": "tyuIA0fu-np8"
      },
      "execution_count": 8,
      "outputs": []
    },
    {
      "cell_type": "code",
      "source": [
        "agents"
      ],
      "metadata": {
        "colab": {
          "base_uri": "https://localhost:8080/"
        },
        "id": "075g9P6H_pXf",
        "outputId": "1e71f1eb-3609-43a1-dab3-a876abbfff0e"
      },
      "execution_count": 9,
      "outputs": [
        {
          "output_type": "execute_result",
          "data": {
            "text/plain": [
              "{'Cardiologist': <Utils.Agents.Cardiologist at 0x7dd0388577d0>,\n",
              " 'Psychologist': <Utils.Agents.Psychologist at 0x7dd038856950>,\n",
              " 'Pulmonologist': <Utils.Agents.Pulmonologist at 0x7dd038611a50>}"
            ]
          },
          "metadata": {},
          "execution_count": 9
        }
      ]
    },
    {
      "cell_type": "code",
      "source": [
        "agents['Cardiologist']"
      ],
      "metadata": {
        "colab": {
          "base_uri": "https://localhost:8080/"
        },
        "id": "U__3s4odEybO",
        "outputId": "91d32b86-9636-4bd3-ae4a-6c70f119b0f4"
      },
      "execution_count": 10,
      "outputs": [
        {
          "output_type": "execute_result",
          "data": {
            "text/plain": [
              "<Utils.Agents.Cardiologist at 0x7dd0388577d0>"
            ]
          },
          "metadata": {},
          "execution_count": 10
        }
      ]
    },
    {
      "cell_type": "code",
      "source": [
        "def get_response(agent_name, agent):\n",
        "    response = agent.run()\n",
        "    return agent_name, response"
      ],
      "metadata": {
        "id": "mIeAwmxl_7bt"
      },
      "execution_count": 11,
      "outputs": []
    },
    {
      "cell_type": "code",
      "source": [
        "responses = {}\n",
        "with ThreadPoolExecutor() as executor:\n",
        "    futures = {executor.submit(get_response, name, agent): name for name, agent in agents.items()}\n",
        "\n",
        "    for future in as_completed(futures):\n",
        "        agent_name, response = future.result()\n",
        "        responses[agent_name] = response\n",
        "\n",
        "# team_agent = MultidisciplinaryTeam(\n",
        "#     cardiologist_report=responses[\"Cardiologist\"],\n",
        "#     psychologist_report=responses[\"Psychologist\"],\n",
        "#     pulmonologist_report=responses[\"Pulmonologist\"]\n",
        "# )"
      ],
      "metadata": {
        "colab": {
          "base_uri": "https://localhost:8080/"
        },
        "id": "E7sZY8bF_9qQ",
        "outputId": "3faf2c6c-ae53-4ed7-df08-e4f1eed52f76"
      },
      "execution_count": 12,
      "outputs": [
        {
          "output_type": "stream",
          "name": "stdout",
          "text": [
            "Cardiologist is running...\n",
            "input_variables=['medical_report'] input_types={} partial_variables={} template=\"\\n                    Act like a cardiologist. You will receive a medical report of a patient.\\n                    Task: Review the patient's cardiac workup, including ECG, blood tests, Holter monitor results, and echocardiogram.\\n                    Focus: Determine if there are any subtle signs of cardiac issues that could explain the patient’s symptoms. Rule out any underlying heart conditions, such as arrhythmias or structural abnormalities, that might be missed on routine testing.\\n                    Recommendation: Provide guidance on any further cardiac testing or monitoring needed to ensure there are no hidden heart-related concerns. Suggest potential management strategies if a cardiac issue is identified.\\n                    Please only return the possible causes of the patient's symptoms and the recommended next steps.\\n                    Medical Report: {medical_report}\\n                \"\n",
            "\n",
            "                    Act like a cardiologist. You will receive a medical report of a patient.\n",
            "                    Task: Review the patient's cardiac workup, including ECG, blood tests, Holter monitor results, and echocardiogram.\n",
            "                    Focus: Determine if there are any subtle signs of cardiac issues that could explain the patient’s symptoms. Rule out any underlying heart conditions, such as arrhythmias or structural abnormalities, that might be missed on routine testing.\n",
            "                    Recommendation: Provide guidance on any further cardiac testing or monitoring needed to ensure there are no hidden heart-related concerns. Suggest potential management strategies if a cardiac issue is identified.\n",
            "                    Please only return the possible causes of the patient's symptoms and the recommended next steps.\n",
            "                    Medical Report: Medical Case Report\n",
            "Patient ID: 345678\n",
            "Name: Michael Johnson\n",
            "Age: 29\n",
            "Gender: Male\n",
            "Date of Report: 2024-09-04\n",
            "\n",
            "Chief Complaint:\n",
            "The patient reports experiencing sudden episodes of intense chest pain, heart palpitations, shortness of breath, dizziness, and sweating over the past three months. These episodes typically last for about 10-20 minutes and occur without warning, usually once or twice a week. The patient describes a feeling of impending doom during these episodes and fears having a heart attack.\n",
            "\n",
            "Medical History:\n",
            "Family History: No known history of heart disease. Mother has generalized anxiety disorder; father has no significant medical history.\n",
            "Personal Medical History:\n",
            "Anxiety: Diagnosed at age 25; managed with cognitive behavioral therapy (CBT) and occasional use of benzodiazepines.\n",
            "Gastroesophageal Reflux Disease (GERD): Diagnosed at age 27; managed with proton pump inhibitors (PPIs) and dietary changes.\n",
            "Lifestyle Factors: The patient works in a high-stress job as an investment banker, reports occasional use of caffeine and alcohol, and exercises irregularly.\n",
            "Medications: Lorazepam (0.5 mg as needed for anxiety), Omeprazole (20 mg daily).\n",
            "Recent Lab and Diagnostic Results:\n",
            "Electrocardiogram (ECG): Normal sinus rhythm; no signs of ischemia or arrhythmia detected.\n",
            "Blood Tests: Cardiac enzymes (troponin, CK-MB) within normal limits; thyroid function tests normal.\n",
            "Holter Monitor (24-hour monitoring): No significant arrhythmias; occasional premature ventricular contractions (PVCs) noted.\n",
            "Echocardiogram: Normal cardiac structure and function; ejection fraction 60%.\n",
            "Physical Examination Findings:\n",
            "Vital Signs: Blood pressure 122/78 mmHg, heart rate 82 bpm, BMI 23.4.\n",
            "Cardiovascular Exam: Normal heart sounds; no murmurs, gallops, or rubs.\n",
            "Respiratory Exam: Clear breath sounds; no wheezing or crackles.\n",
            "\n",
            "                \n",
            "Psychologist is running...\n",
            "input_variables=['medical_report'] input_types={} partial_variables={} template=\"\\n                    Act like a psychologist. You will receive a patient's report.\\n                    Task: Review the patient's report and provide a psychological assessment.\\n                    Focus: Identify any potential mental health issues, such as anxiety, depression, or trauma, that may be affecting the patient's well-being.\\n                    Recommendation: Offer guidance on how to address these mental health concerns, including therapy, counseling, or other interventions.\\n                    Please only return the possible mental health issues and the recommended next steps.\\n                    Patient's Report: {medical_report}\\n                \"\n",
            "\n",
            "                    Act like a psychologist. You will receive a patient's report.\n",
            "                    Task: Review the patient's report and provide a psychological assessment.\n",
            "                    Focus: Identify any potential mental health issues, such as anxiety, depression, or trauma, that may be affecting the patient's well-being.\n",
            "                    Recommendation: Offer guidance on how to address these mental health concerns, including therapy, counseling, or other interventions.\n",
            "                    Please only return the possible mental health issues and the recommended next steps.\n",
            "                    Patient's Report: Medical Case Report\n",
            "Patient ID: 345678\n",
            "Name: Michael Johnson\n",
            "Age: 29\n",
            "Gender: Male\n",
            "Date of Report: 2024-09-04\n",
            "\n",
            "Chief Complaint:\n",
            "The patient reports experiencing sudden episodes of intense chest pain, heart palpitations, shortness of breath, dizziness, and sweating over the past three months. These episodes typically last for about 10-20 minutes and occur without warning, usually once or twice a week. The patient describes a feeling of impending doom during these episodes and fears having a heart attack.\n",
            "\n",
            "Medical History:\n",
            "Family History: No known history of heart disease. Mother has generalized anxiety disorder; father has no significant medical history.\n",
            "Personal Medical History:\n",
            "Anxiety: Diagnosed at age 25; managed with cognitive behavioral therapy (CBT) and occasional use of benzodiazepines.\n",
            "Gastroesophageal Reflux Disease (GERD): Diagnosed at age 27; managed with proton pump inhibitors (PPIs) and dietary changes.\n",
            "Lifestyle Factors: The patient works in a high-stress job as an investment banker, reports occasional use of caffeine and alcohol, and exercises irregularly.\n",
            "Medications: Lorazepam (0.5 mg as needed for anxiety), Omeprazole (20 mg daily).\n",
            "Recent Lab and Diagnostic Results:\n",
            "Electrocardiogram (ECG): Normal sinus rhythm; no signs of ischemia or arrhythmia detected.\n",
            "Blood Tests: Cardiac enzymes (troponin, CK-MB) within normal limits; thyroid function tests normal.\n",
            "Holter Monitor (24-hour monitoring): No significant arrhythmias; occasional premature ventricular contractions (PVCs) noted.\n",
            "Echocardiogram: Normal cardiac structure and function; ejection fraction 60%.\n",
            "Physical Examination Findings:\n",
            "Vital Signs: Blood pressure 122/78 mmHg, heart rate 82 bpm, BMI 23.4.\n",
            "Cardiovascular Exam: Normal heart sounds; no murmurs, gallops, or rubs.\n",
            "Respiratory Exam: Clear breath sounds; no wheezing or crackles.\n",
            "\n",
            "                \n",
            "Pulmonologist is running...\n",
            "input_variables=['medical_report'] input_types={} partial_variables={} template=\"\\n                    Act like a pulmonologist. You will receive a patient's report.\\n                    Task: Review the patient's report and provide a pulmonary assessment.\\n                    Focus: Identify any potential respiratory issues, such as asthma, COPD, or lung infections, that may be affecting the patient's breathing.\\n                    Recommendation: Offer guidance on how to address these respiratory concerns, including pulmonary function tests, imaging studies, or other interventions.\\n                    Please only return the possible respiratory issues and the recommended next steps.\\n                    Patient's Report: {medical_report}\\n                \"\n",
            "\n",
            "                    Act like a pulmonologist. You will receive a patient's report.\n",
            "                    Task: Review the patient's report and provide a pulmonary assessment.\n",
            "                    Focus: Identify any potential respiratory issues, such as asthma, COPD, or lung infections, that may be affecting the patient's breathing.\n",
            "                    Recommendation: Offer guidance on how to address these respiratory concerns, including pulmonary function tests, imaging studies, or other interventions.\n",
            "                    Please only return the possible respiratory issues and the recommended next steps.\n",
            "                    Patient's Report: Medical Case Report\n",
            "Patient ID: 345678\n",
            "Name: Michael Johnson\n",
            "Age: 29\n",
            "Gender: Male\n",
            "Date of Report: 2024-09-04\n",
            "\n",
            "Chief Complaint:\n",
            "The patient reports experiencing sudden episodes of intense chest pain, heart palpitations, shortness of breath, dizziness, and sweating over the past three months. These episodes typically last for about 10-20 minutes and occur without warning, usually once or twice a week. The patient describes a feeling of impending doom during these episodes and fears having a heart attack.\n",
            "\n",
            "Medical History:\n",
            "Family History: No known history of heart disease. Mother has generalized anxiety disorder; father has no significant medical history.\n",
            "Personal Medical History:\n",
            "Anxiety: Diagnosed at age 25; managed with cognitive behavioral therapy (CBT) and occasional use of benzodiazepines.\n",
            "Gastroesophageal Reflux Disease (GERD): Diagnosed at age 27; managed with proton pump inhibitors (PPIs) and dietary changes.\n",
            "Lifestyle Factors: The patient works in a high-stress job as an investment banker, reports occasional use of caffeine and alcohol, and exercises irregularly.\n",
            "Medications: Lorazepam (0.5 mg as needed for anxiety), Omeprazole (20 mg daily).\n",
            "Recent Lab and Diagnostic Results:\n",
            "Electrocardiogram (ECG): Normal sinus rhythm; no signs of ischemia or arrhythmia detected.\n",
            "Blood Tests: Cardiac enzymes (troponin, CK-MB) within normal limits; thyroid function tests normal.\n",
            "Holter Monitor (24-hour monitoring): No significant arrhythmias; occasional premature ventricular contractions (PVCs) noted.\n",
            "Echocardiogram: Normal cardiac structure and function; ejection fraction 60%.\n",
            "Physical Examination Findings:\n",
            "Vital Signs: Blood pressure 122/78 mmHg, heart rate 82 bpm, BMI 23.4.\n",
            "Cardiovascular Exam: Normal heart sounds; no murmurs, gallops, or rubs.\n",
            "Respiratory Exam: Clear breath sounds; no wheezing or crackles.\n",
            "\n",
            "                \n"
          ]
        }
      ]
    },
    {
      "cell_type": "code",
      "source": [
        "# !python Main.py"
      ],
      "metadata": {
        "id": "gL0f_G1FBL8X"
      },
      "execution_count": 13,
      "outputs": []
    },
    {
      "cell_type": "code",
      "source": [
        "responses.keys()"
      ],
      "metadata": {
        "colab": {
          "base_uri": "https://localhost:8080/"
        },
        "id": "G7hm25Z5Fjw9",
        "outputId": "46cd4842-4b26-4ab6-d9d3-a6dcec889b99"
      },
      "execution_count": 14,
      "outputs": [
        {
          "output_type": "execute_result",
          "data": {
            "text/plain": [
              "dict_keys(['Pulmonologist', 'Psychologist', 'Cardiologist'])"
            ]
          },
          "metadata": {},
          "execution_count": 14
        }
      ]
    },
    {
      "cell_type": "code",
      "source": [
        "psychologist_report=responses[\"Psychologist\"]\n",
        "print(psychologist_report)"
      ],
      "metadata": {
        "colab": {
          "base_uri": "https://localhost:8080/"
        },
        "id": "-D1Bt1SMBPiH",
        "outputId": "c9bb5430-6a9d-430d-fa0f-6858c0310aa9"
      },
      "execution_count": 15,
      "outputs": [
        {
          "output_type": "stream",
          "name": "stdout",
          "text": [
            "**Possible Mental Health Issues:**\n",
            "\n",
            "1. **Anxiety Disorder**: The patient has a history of anxiety diagnosed at age 25 and is currently experiencing panic-like symptoms (chest pain, palpitations, shortness of breath) that may indicate a worsening of anxiety or the development of panic disorder. The feeling of impending doom during episodes further supports this.\n",
            "\n",
            "2. **Panic Attacks**: The sudden and intense episodes of physical symptoms suggest the possibility of panic attacks, which can be a manifestation of anxiety disorders.\n",
            "\n",
            "3. **Stress-Related Issues**: The patient's high-stress job as an investment banker may contribute to increased anxiety levels and exacerbate symptoms.\n",
            "\n",
            "**Recommended Next Steps:**\n",
            "\n",
            "1. **Therapy**: Continue cognitive behavioral therapy (CBT) with a focus on managing anxiety and panic symptoms. Consider exploring exposure therapy if panic attacks are confirmed.\n",
            "\n",
            "2. **Medication Review**: Consult with a psychiatrist to evaluate the current use of lorazepam and consider alternative medications or adjustments to better manage anxiety symptoms, especially if panic attacks are frequent.\n",
            "\n",
            "3. **Lifestyle Modifications**: Encourage the patient to adopt a regular exercise routine, reduce caffeine and alcohol intake, and implement stress management techniques such as mindfulness, meditation, or yoga.\n",
            "\n",
            "4. **Monitoring and Support**: Regular follow-up appointments to monitor symptoms and adjust treatment as necessary. Consider support groups for individuals with anxiety or panic disorders.\n",
            "\n",
            "5. **Education**: Provide psychoeducation about anxiety and panic attacks to help the patient understand their condition and develop coping strategies.\n"
          ]
        }
      ]
    },
    {
      "cell_type": "code",
      "source": [],
      "metadata": {
        "id": "svcNaAM4Dp0e"
      },
      "execution_count": 15,
      "outputs": []
    },
    {
      "cell_type": "code",
      "source": [
        "pulmonologist_report=responses[\"Pulmonologist\"]\n",
        "print(pulmonologist_report)"
      ],
      "metadata": {
        "colab": {
          "base_uri": "https://localhost:8080/"
        },
        "id": "iacgpblgDwNk",
        "outputId": "4b6624d2-8f7f-4a33-cfc4-0ab5f32ce1c0"
      },
      "execution_count": 16,
      "outputs": [
        {
          "output_type": "stream",
          "name": "stdout",
          "text": [
            "**Possible Respiratory Issues:**\n",
            "1. **Anxiety-Related Hyperventilation:** The patient's episodes of shortness of breath, chest pain, and feelings of impending doom may be related to anxiety rather than a primary respiratory issue. Hyperventilation can lead to respiratory symptoms that mimic more serious conditions.\n",
            "2. **Gastroesophageal Reflux Disease (GERD):** GERD can cause respiratory symptoms, including cough and shortness of breath, due to aspiration or irritation of the airways.\n",
            "\n",
            "**Recommended Next Steps:**\n",
            "1. **Pulmonary Function Tests (PFTs):** To assess for any underlying obstructive or restrictive lung disease, although the respiratory exam is currently clear.\n",
            "2. **Referral to a Mental Health Professional:** To further address anxiety management, which may help alleviate respiratory symptoms related to hyperventilation.\n",
            "3. **Consideration of GERD Management:** Review and optimize the management of GERD, as effective control may reduce respiratory symptoms.\n",
            "4. **Patient Education:** Provide guidance on breathing techniques and stress management strategies to help manage anxiety-related symptoms.\n",
            "5. **Follow-Up:** Schedule a follow-up appointment to monitor symptoms and response to interventions. If respiratory symptoms persist or worsen, consider imaging studies such as a chest X-ray or CT scan to rule out any structural lung issues.\n"
          ]
        }
      ]
    },
    {
      "cell_type": "code",
      "source": [
        "cardiologist_report=responses[\"Cardiologist\"]\n",
        "print(cardiologist_report)"
      ],
      "metadata": {
        "colab": {
          "base_uri": "https://localhost:8080/"
        },
        "id": "plGD79iQD_4M",
        "outputId": "711d2c1b-4fc3-4c35-f8a9-04d71c95569e"
      },
      "execution_count": 17,
      "outputs": [
        {
          "output_type": "stream",
          "name": "stdout",
          "text": [
            "**Possible Causes of Symptoms:**\n",
            "\n",
            "1. **Anxiety/Panic Attacks:** The patient's history of anxiety and the description of episodes with feelings of impending doom suggest that these symptoms may be related to panic attacks rather than a primary cardiac issue. The episodes of chest pain, palpitations, and shortness of breath align with typical panic attack presentations.\n",
            "\n",
            "2. **Gastroesophageal Reflux Disease (GERD):** GERD can cause chest pain that mimics cardiac pain. The timing of symptoms in relation to meals or stress may provide further insight.\n",
            "\n",
            "3. **Premature Ventricular Contractions (PVCs):** While the Holter monitor showed occasional PVCs, they are often benign in young individuals and may not explain the severity of the symptoms. However, they could contribute to palpitations and discomfort.\n",
            "\n",
            "4. **Stress-Related Cardiac Symptoms:** The high-stress occupation may exacerbate anxiety and lead to physical symptoms that mimic cardiac issues.\n",
            "\n",
            "5. **Undetected Cardiac Conditions:** Although the ECG, echocardiogram, and blood tests are normal, there is a possibility of subtle structural or electrical abnormalities that may not have been detected. \n",
            "\n",
            "**Recommended Next Steps:**\n",
            "\n",
            "1. **Psychiatric Evaluation:** Consider a referral to a mental health professional for further evaluation and management of anxiety, including potential therapy adjustments or medication review.\n",
            "\n",
            "2. **Gastroenterology Consultation:** If GERD is suspected to be contributing to symptoms, a gastroenterology consultation may be warranted to optimize management.\n",
            "\n",
            "3. **Extended Holter Monitoring:** Consider a longer duration of Holter monitoring (e.g., 48-72 hours) to capture any infrequent arrhythmias that may occur outside the 24-hour window.\n",
            "\n",
            "4. **Exercise Stress Test:** An exercise stress test may help evaluate for exercise-induced arrhythmias or ischemia that may not have been evident at rest.\n",
            "\n",
            "5. **Lifestyle Modifications:** Encourage the patient to adopt a regular exercise routine, reduce caffeine and alcohol intake, and implement stress management techniques.\n",
            "\n",
            "6. **Follow-Up:** Schedule a follow-up appointment to reassess symptoms and response to any new interventions or treatments. \n",
            "\n",
            "By addressing both the psychological and potential physiological aspects of the patient's symptoms, a comprehensive management plan can be developed.\n"
          ]
        }
      ]
    },
    {
      "cell_type": "code",
      "source": [
        "future.result()"
      ],
      "metadata": {
        "colab": {
          "base_uri": "https://localhost:8080/"
        },
        "id": "4aje-X7aEP4y",
        "outputId": "ff6cac68-0cc1-4403-a695-4e261e492640"
      },
      "execution_count": 18,
      "outputs": [
        {
          "output_type": "execute_result",
          "data": {
            "text/plain": [
              "('Cardiologist',\n",
              " \"**Possible Causes of Symptoms:**\\n\\n1. **Anxiety/Panic Attacks:** The patient's history of anxiety and the description of episodes with feelings of impending doom suggest that these symptoms may be related to panic attacks rather than a primary cardiac issue. The episodes of chest pain, palpitations, and shortness of breath align with typical panic attack presentations.\\n\\n2. **Gastroesophageal Reflux Disease (GERD):** GERD can cause chest pain that mimics cardiac pain. The timing of symptoms in relation to meals or stress may provide further insight.\\n\\n3. **Premature Ventricular Contractions (PVCs):** While the Holter monitor showed occasional PVCs, they are often benign in young individuals and may not explain the severity of the symptoms. However, they could contribute to palpitations and discomfort.\\n\\n4. **Stress-Related Cardiac Symptoms:** The high-stress occupation may exacerbate anxiety and lead to physical symptoms that mimic cardiac issues.\\n\\n5. **Undetected Cardiac Conditions:** Although the ECG, echocardiogram, and blood tests are normal, there is a possibility of subtle structural or electrical abnormalities that may not have been detected. \\n\\n**Recommended Next Steps:**\\n\\n1. **Psychiatric Evaluation:** Consider a referral to a mental health professional for further evaluation and management of anxiety, including potential therapy adjustments or medication review.\\n\\n2. **Gastroenterology Consultation:** If GERD is suspected to be contributing to symptoms, a gastroenterology consultation may be warranted to optimize management.\\n\\n3. **Extended Holter Monitoring:** Consider a longer duration of Holter monitoring (e.g., 48-72 hours) to capture any infrequent arrhythmias that may occur outside the 24-hour window.\\n\\n4. **Exercise Stress Test:** An exercise stress test may help evaluate for exercise-induced arrhythmias or ischemia that may not have been evident at rest.\\n\\n5. **Lifestyle Modifications:** Encourage the patient to adopt a regular exercise routine, reduce caffeine and alcohol intake, and implement stress management techniques.\\n\\n6. **Follow-Up:** Schedule a follow-up appointment to reassess symptoms and response to any new interventions or treatments. \\n\\nBy addressing both the psychological and potential physiological aspects of the patient's symptoms, a comprehensive management plan can be developed.\")"
            ]
          },
          "metadata": {},
          "execution_count": 18
        }
      ]
    },
    {
      "cell_type": "code",
      "source": [
        "team_agent = MultidisciplinaryTeam(\n",
        "    cardiologist_report=responses[\"Cardiologist\"],\n",
        "    psychologist_report=responses[\"Psychologist\"],\n",
        "    pulmonologist_report=responses[\"Pulmonologist\"]\n",
        ")"
      ],
      "metadata": {
        "id": "1P56keFpHFpK"
      },
      "execution_count": 19,
      "outputs": []
    },
    {
      "cell_type": "code",
      "source": [
        "team_agent.extra_info.get(\"cardiologist_report\",'')"
      ],
      "metadata": {
        "colab": {
          "base_uri": "https://localhost:8080/",
          "height": 178
        },
        "id": "Je10J5HQSNLi",
        "outputId": "0be08d41-a8fe-43ca-cc9e-832018a5e2f3"
      },
      "execution_count": 20,
      "outputs": [
        {
          "output_type": "execute_result",
          "data": {
            "text/plain": [
              "\"**Possible Causes of Symptoms:**\\n\\n1. **Anxiety/Panic Attacks:** The patient's history of anxiety and the description of episodes with feelings of impending doom suggest that these symptoms may be related to panic attacks rather than a primary cardiac issue. The episodes of chest pain, palpitations, and shortness of breath align with typical panic attack presentations.\\n\\n2. **Gastroesophageal Reflux Disease (GERD):** GERD can cause chest pain that mimics cardiac pain. The timing of symptoms in relation to meals or stress may provide further insight.\\n\\n3. **Premature Ventricular Contractions (PVCs):** While the Holter monitor showed occasional PVCs, they are often benign in young individuals and may not explain the severity of the symptoms. However, they could contribute to palpitations and discomfort.\\n\\n4. **Stress-Related Cardiac Symptoms:** The high-stress occupation may exacerbate anxiety and lead to physical symptoms that mimic cardiac issues.\\n\\n5. **Undetected Cardiac Conditions:** Although the ECG, echocardiogram, and blood tests are normal, there is a possibility of subtle structural or electrical abnormalities that may not have been detected. \\n\\n**Recommended Next Steps:**\\n\\n1. **Psychiatric Evaluation:** Consider a referral to a mental health professional for further evaluation and management of anxiety, including potential therapy adjustments or medication review.\\n\\n2. **Gastroenterology Consultation:** If GERD is suspected to be contributing to symptoms, a gastroenterology consultation may be warranted to optimize management.\\n\\n3. **Extended Holter Monitoring:** Consider a longer duration of Holter monitoring (e.g., 48-72 hours) to capture any infrequent arrhythmias that may occur outside the 24-hour window.\\n\\n4. **Exercise Stress Test:** An exercise stress test may help evaluate for exercise-induced arrhythmias or ischemia that may not have been evident at rest.\\n\\n5. **Lifestyle Modifications:** Encourage the patient to adopt a regular exercise routine, reduce caffeine and alcohol intake, and implement stress management techniques.\\n\\n6. **Follow-Up:** Schedule a follow-up appointment to reassess symptoms and response to any new interventions or treatments. \\n\\nBy addressing both the psychological and potential physiological aspects of the patient's symptoms, a comprehensive management plan can be developed.\""
            ],
            "application/vnd.google.colaboratory.intrinsic+json": {
              "type": "string"
            }
          },
          "metadata": {},
          "execution_count": 20
        }
      ]
    },
    {
      "cell_type": "code",
      "source": [
        "team_agent"
      ],
      "metadata": {
        "colab": {
          "base_uri": "https://localhost:8080/"
        },
        "id": "aReiWOzuKsLZ",
        "outputId": "ef6bb221-fac1-4103-9239-08c608c054ca"
      },
      "execution_count": 21,
      "outputs": [
        {
          "output_type": "execute_result",
          "data": {
            "text/plain": [
              "<Utils.Agents.MultidisciplinaryTeam at 0x7dd0386a79d0>"
            ]
          },
          "metadata": {},
          "execution_count": 21
        }
      ]
    },
    {
      "cell_type": "code",
      "source": [
        "final_diagnosis = team_agent.run()"
      ],
      "metadata": {
        "colab": {
          "base_uri": "https://localhost:8080/"
        },
        "id": "uxP1Tvg9KxOQ",
        "outputId": "580f186c-f401-4a06-b149-b134c27e3875"
      },
      "execution_count": 22,
      "outputs": [
        {
          "output_type": "stream",
          "name": "stdout",
          "text": [
            "MultidisciplinaryTeam is running...\n",
            "input_variables=['cardiologist_report', 'psychologist_report', 'pulmonologist_report'] input_types={} partial_variables={} template=\"\\n                Act like a multidisciplinary team of healthcare professionals.\\n                You will receive a medical report of a patient visited by a Cardiologist, Psychologist, and Pulmonologist.\\n                Task: Review the patient's medical report from the Cardiologist, Psychologist, and Pulmonologist, analyze them and come up with a list of 3 possible health issues of the patient.\\n                Just return a list of bullet points of 3 possible health issues of the patient and for each issue provide the reason.\\n                \\n                Cardiologist Report: {cardiologist_report}\\n                Psychologist Report: {psychologist_report}\\n                Pulmonologist Report: {pulmonologist_report}\\n            \"\n",
            "\n",
            "                Act like a multidisciplinary team of healthcare professionals.\n",
            "                You will receive a medical report of a patient visited by a Cardiologist, Psychologist, and Pulmonologist.\n",
            "                Task: Review the patient's medical report from the Cardiologist, Psychologist, and Pulmonologist, analyze them and come up with a list of 3 possible health issues of the patient.\n",
            "                Just return a list of bullet points of 3 possible health issues of the patient and for each issue provide the reason.\n",
            "                \n",
            "                Cardiologist Report: **Possible Causes of Symptoms:**\n",
            "\n",
            "1. **Anxiety/Panic Attacks:** The patient's history of anxiety and the description of episodes with feelings of impending doom suggest that these symptoms may be related to panic attacks rather than a primary cardiac issue. The episodes of chest pain, palpitations, and shortness of breath align with typical panic attack presentations.\n",
            "\n",
            "2. **Gastroesophageal Reflux Disease (GERD):** GERD can cause chest pain that mimics cardiac pain. The timing of symptoms in relation to meals or stress may provide further insight.\n",
            "\n",
            "3. **Premature Ventricular Contractions (PVCs):** While the Holter monitor showed occasional PVCs, they are often benign in young individuals and may not explain the severity of the symptoms. However, they could contribute to palpitations and discomfort.\n",
            "\n",
            "4. **Stress-Related Cardiac Symptoms:** The high-stress occupation may exacerbate anxiety and lead to physical symptoms that mimic cardiac issues.\n",
            "\n",
            "5. **Undetected Cardiac Conditions:** Although the ECG, echocardiogram, and blood tests are normal, there is a possibility of subtle structural or electrical abnormalities that may not have been detected. \n",
            "\n",
            "**Recommended Next Steps:**\n",
            "\n",
            "1. **Psychiatric Evaluation:** Consider a referral to a mental health professional for further evaluation and management of anxiety, including potential therapy adjustments or medication review.\n",
            "\n",
            "2. **Gastroenterology Consultation:** If GERD is suspected to be contributing to symptoms, a gastroenterology consultation may be warranted to optimize management.\n",
            "\n",
            "3. **Extended Holter Monitoring:** Consider a longer duration of Holter monitoring (e.g., 48-72 hours) to capture any infrequent arrhythmias that may occur outside the 24-hour window.\n",
            "\n",
            "4. **Exercise Stress Test:** An exercise stress test may help evaluate for exercise-induced arrhythmias or ischemia that may not have been evident at rest.\n",
            "\n",
            "5. **Lifestyle Modifications:** Encourage the patient to adopt a regular exercise routine, reduce caffeine and alcohol intake, and implement stress management techniques.\n",
            "\n",
            "6. **Follow-Up:** Schedule a follow-up appointment to reassess symptoms and response to any new interventions or treatments. \n",
            "\n",
            "By addressing both the psychological and potential physiological aspects of the patient's symptoms, a comprehensive management plan can be developed.\n",
            "                Psychologist Report: **Possible Mental Health Issues:**\n",
            "\n",
            "1. **Anxiety Disorder**: The patient has a history of anxiety diagnosed at age 25 and is currently experiencing panic-like symptoms (chest pain, palpitations, shortness of breath) that may indicate a worsening of anxiety or the development of panic disorder. The feeling of impending doom during episodes further supports this.\n",
            "\n",
            "2. **Panic Attacks**: The sudden and intense episodes of physical symptoms suggest the possibility of panic attacks, which can be a manifestation of anxiety disorders.\n",
            "\n",
            "3. **Stress-Related Issues**: The patient's high-stress job as an investment banker may contribute to increased anxiety levels and exacerbate symptoms.\n",
            "\n",
            "**Recommended Next Steps:**\n",
            "\n",
            "1. **Therapy**: Continue cognitive behavioral therapy (CBT) with a focus on managing anxiety and panic symptoms. Consider exploring exposure therapy if panic attacks are confirmed.\n",
            "\n",
            "2. **Medication Review**: Consult with a psychiatrist to evaluate the current use of lorazepam and consider alternative medications or adjustments to better manage anxiety symptoms, especially if panic attacks are frequent.\n",
            "\n",
            "3. **Lifestyle Modifications**: Encourage the patient to adopt a regular exercise routine, reduce caffeine and alcohol intake, and implement stress management techniques such as mindfulness, meditation, or yoga.\n",
            "\n",
            "4. **Monitoring and Support**: Regular follow-up appointments to monitor symptoms and adjust treatment as necessary. Consider support groups for individuals with anxiety or panic disorders.\n",
            "\n",
            "5. **Education**: Provide psychoeducation about anxiety and panic attacks to help the patient understand their condition and develop coping strategies.\n",
            "                Pulmonologist Report: **Possible Respiratory Issues:**\n",
            "1. **Anxiety-Related Hyperventilation:** The patient's episodes of shortness of breath, chest pain, and feelings of impending doom may be related to anxiety rather than a primary respiratory issue. Hyperventilation can lead to respiratory symptoms that mimic more serious conditions.\n",
            "2. **Gastroesophageal Reflux Disease (GERD):** GERD can cause respiratory symptoms, including cough and shortness of breath, due to aspiration or irritation of the airways.\n",
            "\n",
            "**Recommended Next Steps:**\n",
            "1. **Pulmonary Function Tests (PFTs):** To assess for any underlying obstructive or restrictive lung disease, although the respiratory exam is currently clear.\n",
            "2. **Referral to a Mental Health Professional:** To further address anxiety management, which may help alleviate respiratory symptoms related to hyperventilation.\n",
            "3. **Consideration of GERD Management:** Review and optimize the management of GERD, as effective control may reduce respiratory symptoms.\n",
            "4. **Patient Education:** Provide guidance on breathing techniques and stress management strategies to help manage anxiety-related symptoms.\n",
            "5. **Follow-Up:** Schedule a follow-up appointment to monitor symptoms and response to interventions. If respiratory symptoms persist or worsen, consider imaging studies such as a chest X-ray or CT scan to rule out any structural lung issues.\n",
            "            \n"
          ]
        }
      ]
    },
    {
      "cell_type": "code",
      "source": [
        "print(final_diagnosis)"
      ],
      "metadata": {
        "colab": {
          "base_uri": "https://localhost:8080/"
        },
        "id": "Y7tve1ndLrue",
        "outputId": "857b9c10-7530-46ba-fd70-f8a69f145ab9"
      },
      "execution_count": 24,
      "outputs": [
        {
          "output_type": "stream",
          "name": "stdout",
          "text": [
            "- **Anxiety Disorder/Panic Attacks:** The patient exhibits a history of anxiety and is currently experiencing panic-like symptoms, including chest pain, palpitations, and shortness of breath, which align with panic attacks. The feeling of impending doom during episodes further supports this diagnosis.\n",
            "\n",
            "- **Gastroesophageal Reflux Disease (GERD):** The reports from both the cardiologist and pulmonologist suggest that GERD may be contributing to the patient's symptoms, including chest pain and respiratory issues. GERD can mimic cardiac pain and cause respiratory symptoms due to aspiration or airway irritation.\n",
            "\n",
            "- **Stress-Related Symptoms:** The patient's high-stress occupation as an investment banker is likely exacerbating both anxiety and physical symptoms, leading to stress-related cardiac and respiratory manifestations. This stress may contribute to hyperventilation and other anxiety-related symptoms.\n"
          ]
        }
      ]
    },
    {
      "cell_type": "code",
      "source": [
        "final_diagnosis_text = \"### Final Diagnosis:\\n\\n\" + final_diagnosis\n",
        "txt_output_path = \"Results/final_diagnosis_1.txt\"\n",
        "\n",
        "# Ensure the directory exists\n",
        "os.makedirs(os.path.dirname(txt_output_path), exist_ok=True)\n",
        "\n",
        "# Write the final diagnosis to the text file\n",
        "with open(txt_output_path, \"w\") as txt_file:\n",
        "    txt_file.write(final_diagnosis_text)\n",
        "\n",
        "print(f\"Final diagnosis has been saved to {txt_output_path}\")\n"
      ],
      "metadata": {
        "colab": {
          "base_uri": "https://localhost:8080/"
        },
        "id": "oxx1o26MbrBJ",
        "outputId": "53012931-61e6-4a5f-a713-ceba647b6b99"
      },
      "execution_count": 26,
      "outputs": [
        {
          "output_type": "stream",
          "name": "stdout",
          "text": [
            "Final diagnosis has been saved to Results/final_diagnosis_1.txt\n"
          ]
        }
      ]
    },
    {
      "cell_type": "code",
      "source": [
        "!zip -r /content/AI-Agents-for-Medical-Diagnostics.zip /content/AI-Agents-for-Medical-Diagnostics"
      ],
      "metadata": {
        "colab": {
          "base_uri": "https://localhost:8080/"
        },
        "id": "1K1yTq5AczEi",
        "outputId": "e2b6b515-5f9a-46b3-92f9-be4f5927d5b2"
      },
      "execution_count": 27,
      "outputs": [
        {
          "output_type": "stream",
          "name": "stdout",
          "text": [
            "  adding: content/AI-Agents-for-Medical-Diagnostics/ (stored 0%)\n",
            "  adding: content/AI-Agents-for-Medical-Diagnostics/Main.py (deflated 61%)\n",
            "  adding: content/AI-Agents-for-Medical-Diagnostics/Results/ (stored 0%)\n",
            "  adding: content/AI-Agents-for-Medical-Diagnostics/Results/final_diagnosis_old.txt (deflated 50%)\n",
            "  adding: content/AI-Agents-for-Medical-Diagnostics/Results/final_diagnosis_1.txt (deflated 48%)\n",
            "  adding: content/AI-Agents-for-Medical-Diagnostics/Results/.ipynb_checkpoints/ (stored 0%)\n",
            "  adding: content/AI-Agents-for-Medical-Diagnostics/apikey.env (deflated 6%)\n",
            "  adding: content/AI-Agents-for-Medical-Diagnostics/requirements.txt (deflated 32%)\n",
            "  adding: content/AI-Agents-for-Medical-Diagnostics/Medical Reports/ (stored 0%)\n",
            "  adding: content/AI-Agents-for-Medical-Diagnostics/Medical Reports/Medical Rerort - Michael Johnson - Panic Attack Disorder.txt (deflated 44%)\n",
            "  adding: content/AI-Agents-for-Medical-Diagnostics/README.md (deflated 53%)\n",
            "  adding: content/AI-Agents-for-Medical-Diagnostics/.git/ (stored 0%)\n",
            "  adding: content/AI-Agents-for-Medical-Diagnostics/.git/branches/ (stored 0%)\n",
            "  adding: content/AI-Agents-for-Medical-Diagnostics/.git/hooks/ (stored 0%)\n",
            "  adding: content/AI-Agents-for-Medical-Diagnostics/.git/hooks/prepare-commit-msg.sample (deflated 50%)\n",
            "  adding: content/AI-Agents-for-Medical-Diagnostics/.git/hooks/pre-applypatch.sample (deflated 38%)\n",
            "  adding: content/AI-Agents-for-Medical-Diagnostics/.git/hooks/pre-commit.sample (deflated 45%)\n",
            "  adding: content/AI-Agents-for-Medical-Diagnostics/.git/hooks/update.sample (deflated 68%)\n",
            "  adding: content/AI-Agents-for-Medical-Diagnostics/.git/hooks/pre-merge-commit.sample (deflated 39%)\n",
            "  adding: content/AI-Agents-for-Medical-Diagnostics/.git/hooks/pre-push.sample (deflated 49%)\n",
            "  adding: content/AI-Agents-for-Medical-Diagnostics/.git/hooks/fsmonitor-watchman.sample (deflated 62%)\n",
            "  adding: content/AI-Agents-for-Medical-Diagnostics/.git/hooks/post-update.sample (deflated 27%)\n",
            "  adding: content/AI-Agents-for-Medical-Diagnostics/.git/hooks/commit-msg.sample (deflated 44%)\n",
            "  adding: content/AI-Agents-for-Medical-Diagnostics/.git/hooks/pre-rebase.sample (deflated 59%)\n",
            "  adding: content/AI-Agents-for-Medical-Diagnostics/.git/hooks/applypatch-msg.sample (deflated 42%)\n",
            "  adding: content/AI-Agents-for-Medical-Diagnostics/.git/hooks/pre-receive.sample (deflated 40%)\n",
            "  adding: content/AI-Agents-for-Medical-Diagnostics/.git/hooks/push-to-checkout.sample (deflated 55%)\n",
            "  adding: content/AI-Agents-for-Medical-Diagnostics/.git/info/ (stored 0%)\n",
            "  adding: content/AI-Agents-for-Medical-Diagnostics/.git/info/exclude (deflated 28%)\n",
            "  adding: content/AI-Agents-for-Medical-Diagnostics/.git/logs/ (stored 0%)\n",
            "  adding: content/AI-Agents-for-Medical-Diagnostics/.git/logs/HEAD (deflated 27%)\n",
            "  adding: content/AI-Agents-for-Medical-Diagnostics/.git/logs/refs/ (stored 0%)\n",
            "  adding: content/AI-Agents-for-Medical-Diagnostics/.git/logs/refs/remotes/ (stored 0%)\n",
            "  adding: content/AI-Agents-for-Medical-Diagnostics/.git/logs/refs/remotes/origin/ (stored 0%)\n",
            "  adding: content/AI-Agents-for-Medical-Diagnostics/.git/logs/refs/remotes/origin/HEAD (deflated 27%)\n",
            "  adding: content/AI-Agents-for-Medical-Diagnostics/.git/logs/refs/heads/ (stored 0%)\n",
            "  adding: content/AI-Agents-for-Medical-Diagnostics/.git/logs/refs/heads/main (deflated 27%)\n",
            "  adding: content/AI-Agents-for-Medical-Diagnostics/.git/index (deflated 35%)\n",
            "  adding: content/AI-Agents-for-Medical-Diagnostics/.git/config (deflated 31%)\n",
            "  adding: content/AI-Agents-for-Medical-Diagnostics/.git/objects/ (stored 0%)\n",
            "  adding: content/AI-Agents-for-Medical-Diagnostics/.git/objects/info/ (stored 0%)\n",
            "  adding: content/AI-Agents-for-Medical-Diagnostics/.git/objects/pack/ (stored 0%)\n",
            "  adding: content/AI-Agents-for-Medical-Diagnostics/.git/objects/pack/pack-3732e5aa48322312788541fbcb4fb2f94be10935.idx (deflated 33%)\n",
            "  adding: content/AI-Agents-for-Medical-Diagnostics/.git/objects/pack/pack-3732e5aa48322312788541fbcb4fb2f94be10935.pack (deflated 1%)\n",
            "  adding: content/AI-Agents-for-Medical-Diagnostics/.git/HEAD (stored 0%)\n",
            "  adding: content/AI-Agents-for-Medical-Diagnostics/.git/refs/ (stored 0%)\n",
            "  adding: content/AI-Agents-for-Medical-Diagnostics/.git/refs/remotes/ (stored 0%)\n",
            "  adding: content/AI-Agents-for-Medical-Diagnostics/.git/refs/remotes/origin/ (stored 0%)\n",
            "  adding: content/AI-Agents-for-Medical-Diagnostics/.git/refs/remotes/origin/HEAD (stored 0%)\n",
            "  adding: content/AI-Agents-for-Medical-Diagnostics/.git/refs/tags/ (stored 0%)\n",
            "  adding: content/AI-Agents-for-Medical-Diagnostics/.git/refs/heads/ (stored 0%)\n",
            "  adding: content/AI-Agents-for-Medical-Diagnostics/.git/refs/heads/main (stored 0%)\n",
            "  adding: content/AI-Agents-for-Medical-Diagnostics/.git/packed-refs (deflated 9%)\n",
            "  adding: content/AI-Agents-for-Medical-Diagnostics/.git/description (deflated 14%)\n",
            "  adding: content/AI-Agents-for-Medical-Diagnostics/Utils/ (stored 0%)\n",
            "  adding: content/AI-Agents-for-Medical-Diagnostics/Utils/Agents.py (deflated 73%)\n",
            "  adding: content/AI-Agents-for-Medical-Diagnostics/Utils/__pycache__/ (stored 0%)\n",
            "  adding: content/AI-Agents-for-Medical-Diagnostics/Utils/__pycache__/Agents.cpython-312.pyc (deflated 59%)\n",
            "  adding: content/AI-Agents-for-Medical-Diagnostics/Utils/__pycache__/PdfHandler.cpython-312.pyc (deflated 37%)\n",
            "  adding: content/AI-Agents-for-Medical-Diagnostics/Utils/__pycache__/Agents.cpython-311.pyc (deflated 62%)\n",
            "  adding: content/AI-Agents-for-Medical-Diagnostics/results/ (stored 0%)\n",
            "  adding: content/AI-Agents-for-Medical-Diagnostics/results/final_diagnosis.txt (deflated 48%)\n"
          ]
        }
      ]
    }
  ]
}